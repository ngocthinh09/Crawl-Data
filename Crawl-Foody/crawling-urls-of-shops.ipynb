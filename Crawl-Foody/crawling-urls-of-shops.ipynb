{
 "cells": [
  {
   "cell_type": "code",
   "execution_count": 18,
   "id": "4d2c3a14",
   "metadata": {},
   "outputs": [],
   "source": [
    "import json\n",
    "from selenium import webdriver\n",
    "from selenium.webdriver.common.by import By\n",
    "from tqdm import tqdm\n",
    "from typing import List\n",
    "import time"
   ]
  },
  {
   "cell_type": "code",
   "execution_count": null,
   "id": "edc1b4ec",
   "metadata": {},
   "outputs": [],
   "source": [
    "MAIN_URL = \"https://www.foody.vn/\""
   ]
  },
  {
   "cell_type": "code",
   "execution_count": 20,
   "id": "66ba3819",
   "metadata": {},
   "outputs": [],
   "source": [
    "options = webdriver.ChromeOptions()\n",
    "options.add_argument(\"--start-maximized\")\n",
    "options.add_argument(\"--disable-notifications\")\n",
    "options.add_argument(\"--disable-infobars\")\n",
    "options.add_argument(\"--disable-extensions\")"
   ]
  },
  {
   "cell_type": "code",
   "execution_count": 26,
   "id": "73e1a159",
   "metadata": {},
   "outputs": [],
   "source": [
    "def get_url_shop(suffix: str = \"\"):\n",
    "    driver = webdriver.Chrome(options=options)\n",
    "    driver.get(MAIN_URL)\n",
    "    driver.execute_script(\"window.scrollTo(0, document.body.scrollHeight);\")\n",
    "    time.sleep(10)\n",
    "    \n",
    "    container_content_shops = driver.find_elements(by=By.CSS_SELECTOR, value=\"div.content-item.ng-scope div.title.fd-text-ellip a.ng-binding\")\n",
    "    \n",
    "    url_shop = [_.get_attribute(\"href\") for _ in container_content_shops]\n",
    "\n",
    "    driver.quit()\n",
    "    \n",
    "    return container_content_shops, url_shop\n"
   ]
  },
  {
   "cell_type": "code",
   "execution_count": null,
   "id": "0af0a8c1",
   "metadata": {},
   "outputs": [
    {
     "name": "stdout",
     "output_type": "stream",
     "text": [
      "[INFO] Crawling in ho-chi-minh\n",
      "[INFO] Completely crawling in ho-chi-minh with 72 url.\n",
      "[INFO] Crawling in ha-noi\n",
      "[INFO] Completely crawling in ha-noi with 72 url.\n"
     ]
    }
   ],
   "source": [
    "province = [\"ho-chi-minh\", \"ha-noi\"]\n",
    "\n",
    "for _ in province:\n",
    "    print(f\"[INFO] Crawling in {_}\")\n",
    "    container_content_shops, url_shop = get_url_shop(_)\n",
    "    print(f\"[INFO] Completely crawling in {_} with {len(url_shop)} url.\")\n",
    "    \n",
    "    with open(f\"link/{_}.txt\", \"w\", encoding=\"utf-8\") as file:\n",
    "        for url in url_shop:\n",
    "            file.write(url + \"\\n\")"
   ]
  }
 ],
 "metadata": {
  "kernelspec": {
   "display_name": "crawl-data",
   "language": "python",
   "name": "python3"
  },
  "language_info": {
   "codemirror_mode": {
    "name": "ipython",
    "version": 3
   },
   "file_extension": ".py",
   "mimetype": "text/x-python",
   "name": "python",
   "nbconvert_exporter": "python",
   "pygments_lexer": "ipython3",
   "version": "3.12.12"
  }
 },
 "nbformat": 4,
 "nbformat_minor": 5
}
