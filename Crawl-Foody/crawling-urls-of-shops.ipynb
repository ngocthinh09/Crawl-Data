{
 "cells": [
  {
   "cell_type": "code",
   "execution_count": null,
   "id": "4d2c3a14",
   "metadata": {},
   "outputs": [],
   "source": [
    "import json\n",
    "from selenium import webdriver\n",
    "from selenium.webdriver.common.by import By\n",
    "from selenium.webdriver.support.ui import WebDriverWait\n",
    "from selenium.webdriver.support import expected_conditions as EC\n",
    "import time"
   ]
  },
  {
   "cell_type": "code",
   "execution_count": null,
   "id": "edc1b4ec",
   "metadata": {},
   "outputs": [],
   "source": [
    "MAIN_URL = \"https://www.foody.vn/\""
   ]
  },
  {
   "cell_type": "code",
   "execution_count": null,
   "id": "66ba3819",
   "metadata": {},
   "outputs": [],
   "source": [
    "options = webdriver.ChromeOptions()\n",
    "options.add_argument(\"--disable-notifications\")\n",
    "options.add_argument(\"--disable-infobars\")\n",
    "options.add_argument(\"--disable-extensions\")"
   ]
  },
  {
   "cell_type": "code",
   "execution_count": null,
   "id": "73e1a159",
   "metadata": {},
   "outputs": [],
   "source": [
    "def get_url_shop(suffix: str = \"\"):\n",
    "    driver = webdriver.Chrome(options=options)\n",
    "    driver.get(MAIN_URL)\n",
    "    WebDriverWait(driver, 60).until(\n",
    "        EC.presence_of_element_located(\n",
    "            (By.CSS_SELECTOR, \"div.content-item.ng-scope\")\n",
    "        )\n",
    "    )\n",
    "    driver.execute_script(\"window.scrollTo(0, document.body.scrollHeight);\")\n",
    "    time.sleep(10)\n",
    "    \n",
    "    container_content_shops = driver.find_elements(by=By.CSS_SELECTOR, value=\"div.content-item.ng-scope div.title.fd-text-ellip a.ng-binding\")\n",
    "    \n",
    "    url_shop = [_.get_attribute(\"href\") for _ in container_content_shops]\n",
    "\n",
    "    driver.quit()\n",
    "    \n",
    "    return container_content_shops, url_shop\n"
   ]
  },
  {
   "cell_type": "code",
   "execution_count": null,
   "id": "0af0a8c1",
   "metadata": {},
   "outputs": [],
   "source": [
    "province = [\"ho-chi-minh\", \"ha-noi\"]\n",
    "\n",
    "for _ in province:\n",
    "    print(f\"[INFO] Crawling in {_}\")\n",
    "    container_content_shops, url_shop = get_url_shop(_)\n",
    "    print(f\"[INFO] Completely crawling in {_} with {len(url_shop)} url.\")\n",
    "    \n",
    "    with open(f\"link/{_}.txt\", \"w\", encoding=\"utf-8\") as file:\n",
    "        for url in url_shop:\n",
    "            file.write(url + \"\\n\")"
   ]
  }
 ],
 "metadata": {
  "kernelspec": {
   "display_name": "crawl-data",
   "language": "python",
   "name": "python3"
  },
  "language_info": {
   "codemirror_mode": {
    "name": "ipython",
    "version": 3
   },
   "file_extension": ".py",
   "mimetype": "text/x-python",
   "name": "python",
   "nbconvert_exporter": "python",
   "pygments_lexer": "ipython3",
   "version": "3.12.12"
  }
 },
 "nbformat": 4,
 "nbformat_minor": 5
}
