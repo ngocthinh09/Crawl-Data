{
 "cells": [
  {
   "cell_type": "code",
   "execution_count": 1,
   "id": "572eaaef",
   "metadata": {},
   "outputs": [],
   "source": [
    "import json\n",
    "from selenium import webdriver\n",
    "from selenium.webdriver.common.by import By\n",
    "from selenium_stealth import stealth\n",
    "from selenium.webdriver.support.ui import WebDriverWait\n",
    "from selenium.webdriver.support import expected_conditions as EC\n",
    "import time"
   ]
  },
  {
   "cell_type": "code",
   "execution_count": 2,
   "id": "da3fe83e",
   "metadata": {},
   "outputs": [],
   "source": [
    "options = webdriver.ChromeOptions()\n",
    "options.add_argument(\"--headless\")\n",
    "options.add_argument(\"--disable-notifications\")\n",
    "options.add_argument(\"--disable-infobars\")\n",
    "options.add_argument(\"--disable-extensions\")"
   ]
  },
  {
   "cell_type": "code",
   "execution_count": 3,
   "id": "b856667b",
   "metadata": {},
   "outputs": [],
   "source": [
    "def get_detail_content(url: str, save_path: str, waiting: int = 10):\n",
    "    driver = webdriver.Chrome(options=options)\n",
    "    stealth(driver,\n",
    "            languages=[\"en-US\", \"en\"],\n",
    "            vendor=\"Google Inc.\",\n",
    "            platform=\"Win32\",\n",
    "            webgl_vendor=\"Intel Inc.\",\n",
    "            renderer=\"Intel Iris OpenGL Engine\",\n",
    "            fix_hairline=True)\n",
    "    try:\n",
    "        driver.set_page_load_timeout(120)\n",
    "        driver.get(url)\n",
    "        \n",
    "        try:\n",
    "            WebDriverWait(driver, 60).until(\n",
    "                EC.presence_of_element_located(\n",
    "                    (By.CSS_SELECTOR, \"div.lists.list-reviews\")\n",
    "                )\n",
    "            )\n",
    "        except:\n",
    "            print(f\"[WARNING] Not found list reviews at {url}\")\n",
    "            \n",
    "        driver.execute_script(\"window.scrollTo(0, document.body.scrollHeight);\")\n",
    "        \n",
    "        try:\n",
    "            WebDriverWait(driver, 30).until(\n",
    "                lambda d: len(\n",
    "                    d.find_elements(By.CSS_SELECTOR, \"li.review-item.fd-clearbox.ng-scope\")\n",
    "                ) >= 15\n",
    "            )\n",
    "        except:\n",
    "            print(\"[WARNING] Not found enough review-item!!!\")\n",
    "\n",
    "        \n",
    "        information_dict = {}\n",
    "        \n",
    "        # Get shop_name\n",
    "        try:\n",
    "            item_shop_name = driver.find_element(by = By.CSS_SELECTOR, value=\"div.main-information.disableSection div.main-info-title h1\")\n",
    "            information_dict[\"shop_name\"] = item_shop_name.text\n",
    "        except Exception:\n",
    "            information_dict[\"shop_name\"] = url.strip().rsplit(sep=\"/\", maxsplit=1)[1]\n",
    "            \n",
    "        # Get address\n",
    "        information_dict[\"address\"] = []\n",
    "        try:\n",
    "            item_street_address = driver.find_element(by = By.CSS_SELECTOR, value='div.main-information.disableSection span[itemprop=\"streetAddress\"]')\n",
    "            information_dict[\"address\"].append(item_street_address.text)\n",
    "        except Exception:\n",
    "            print(f\"[WARNING] Cannot get street address information of {url}\")\n",
    "            \n",
    "        try:\n",
    "            item_address_locality = driver.find_element(by = By.CSS_SELECTOR, value='div.main-information.disableSection span[itemprop=\"addressLocality\"]')\n",
    "            information_dict[\"address\"].append(item_address_locality.text)\n",
    "        except Exception:\n",
    "            print(f\"[WARNING] Cannot get address locality information of {url}\")\n",
    "        \n",
    "        information_dict[\"address\"] = \", \".join(information_dict[\"address\"])\n",
    "        \n",
    "        # Get menu\n",
    "        information_dict[\"menu\"] = []\n",
    "        item_list_menu = driver.find_elements(by = By.CSS_SELECTOR, value=\"div.delivery-dishes-group div.delivery-dishes-item-right div.title-name.ng-binding.ng-isolate-scope\")\n",
    "        for item in item_list_menu:\n",
    "            information_dict[\"menu\"].append(item.text)\n",
    "            \n",
    "        # Get feedback\n",
    "        information_dict[\"feedback\"] = []\n",
    "        item_list_feedbacks = driver.find_elements(by = By.CSS_SELECTOR, value=\"div.lists.list-reviews li.review-item.fd-clearbox.ng-scope\")\n",
    "        \n",
    "        for (i, each_feedback) in enumerate(item_list_feedbacks):\n",
    "            if (i >= 20): break\n",
    "            \n",
    "            feed_dict = {}\n",
    "            try:\n",
    "                review_point = each_feedback.find_element(by = By.CSS_SELECTOR, value=\"div.review-user div.review-points span\")\n",
    "                feed_dict[\"review_point\"] = review_point.text\n",
    "            except Exception:\n",
    "                feed_dict[\"review_point\"] = \"0\"\n",
    "                print(f\"[WARNING] Cannot get one of review points information of {url}\")\n",
    "            \n",
    "            try:\n",
    "                username = each_feedback.find_element(by = By.CSS_SELECTOR, value=\"div.review-user div.ru-row a.ru-username\")\n",
    "                feed_dict[\"username\"] = username.text\n",
    "            except Exception:\n",
    "                feed_dict[\"username\"] = \"Unknown\"\n",
    "                print(f\"[WARNING] Cannot get one of username information of {url}\")\n",
    "                \n",
    "            try:\n",
    "                describle = each_feedback.find_element(by = By.CSS_SELECTOR, value=\"div.rd-des span\")\n",
    "                feed_dict[\"describle\"] = describle.text\n",
    "            except Exception:\n",
    "                feed_dict[\"describle\"] = \"No describle\"\n",
    "                print(f\"[WARNING] Cannot get one of describle feedback of {url}\")\n",
    "                \n",
    "            information_dict[\"feedback\"].append(feed_dict)\n",
    "            \n",
    "        with open(save_path, \"w\", encoding =\"utf-8\") as f:\n",
    "            json.dump(information_dict, f, indent=4, ensure_ascii=False)\n",
    "            \n",
    "    except Exception as e:\n",
    "        print(f\"[ERROR] {e}\")\n",
    "        print(f\"[ERROR] Time out as {url}\")\n",
    "\n",
    "    finally:        \n",
    "        driver.quit()"
   ]
  },
  {
   "cell_type": "code",
   "execution_count": 4,
   "id": "4920a1ea",
   "metadata": {},
   "outputs": [
    {
     "name": "stdout",
     "output_type": "stream",
     "text": [
      "[INFO] Processing ho-chi-minh province.\n"
     ]
    },
    {
     "name": "stderr",
     "output_type": "stream",
     "text": [
      "Progress :   0%|          | 0/110 [00:00<?, ?it/s]"
     ]
    },
    {
     "name": "stdout",
     "output_type": "stream",
     "text": [
      "[INFO] Processing https://www.foody.vn/ho-chi-minh/pha-lau-nga-ton-dan\n",
      "\n",
      "[WARNING] Not found enough review-item!!!\n"
     ]
    },
    {
     "name": "stderr",
     "output_type": "stream",
     "text": [
      "Progress :   1%|          | 1/110 [00:42<1:17:09, 42.48s/it]"
     ]
    },
    {
     "name": "stdout",
     "output_type": "stream",
     "text": [
      "[INFO] Processing https://www.foody.vn/ho-chi-minh/the-pizza-company-hau-giang\n",
      "\n"
     ]
    },
    {
     "name": "stderr",
     "output_type": "stream",
     "text": [
      "Progress :   2%|▏         | 2/110 [00:58<48:04, 26.71s/it]  "
     ]
    },
    {
     "name": "stdout",
     "output_type": "stream",
     "text": [
      "[INFO] Processing https://www.foody.vn/ho-chi-minh/pizza-hut-hau-giang\n",
      "\n"
     ]
    },
    {
     "name": "stderr",
     "output_type": "stream",
     "text": [
      "Progress :   3%|▎         | 3/110 [01:13<38:40, 21.69s/it]"
     ]
    },
    {
     "name": "stdout",
     "output_type": "stream",
     "text": [
      "[INFO] Processing https://www.foody.vn/ho-chi-minh/che-thai-ut-lyly\n",
      "\n"
     ]
    },
    {
     "name": "stderr",
     "output_type": "stream",
     "text": [
      "Progress :   4%|▎         | 4/110 [01:29<33:49, 19.15s/it]"
     ]
    },
    {
     "name": "stdout",
     "output_type": "stream",
     "text": [
      "[INFO] Processing https://www.foody.vn/ho-chi-minh/com-tam-sao-mai\n",
      "\n",
      "[WARNING] Not found enough review-item!!!\n"
     ]
    },
    {
     "name": "stderr",
     "output_type": "stream",
     "text": [
      "Progress :   5%|▍         | 5/110 [02:13<49:36, 28.35s/it]"
     ]
    },
    {
     "name": "stdout",
     "output_type": "stream",
     "text": [
      "[INFO] Processing https://www.foody.vn/ho-chi-minh/ga-ran-burger-lotteria-htv\n",
      "\n"
     ]
    },
    {
     "name": "stderr",
     "output_type": "stream",
     "text": [
      "Progress :   5%|▌         | 6/110 [02:29<41:41, 24.05s/it]"
     ]
    },
    {
     "name": "stdout",
     "output_type": "stream",
     "text": [
      "[INFO] Processing https://www.foody.vn/ho-chi-minh/kfc-central-plaza\n",
      "\n"
     ]
    },
    {
     "name": "stderr",
     "output_type": "stream",
     "text": [
      "Progress :   6%|▋         | 7/110 [02:45<36:54, 21.50s/it]"
     ]
    },
    {
     "name": "stdout",
     "output_type": "stream",
     "text": [
      "[INFO] Processing https://www.foody.vn/ho-chi-minh/dudu-tea-food-tra-sua-mi-cay\n",
      "\n",
      "[WARNING] Not found enough review-item!!!\n"
     ]
    },
    {
     "name": "stderr",
     "output_type": "stream",
     "text": [
      "Progress :   7%|▋         | 8/110 [03:30<49:02, 28.85s/it]"
     ]
    },
    {
     "name": "stdout",
     "output_type": "stream",
     "text": [
      "[INFO] Processing https://www.foody.vn/ho-chi-minh/chao-suon-be-hien-sup-cua-bun-bo\n",
      "\n"
     ]
    },
    {
     "name": "stderr",
     "output_type": "stream",
     "text": [
      "Progress :   8%|▊         | 9/110 [03:46<41:57, 24.92s/it]"
     ]
    },
    {
     "name": "stdout",
     "output_type": "stream",
     "text": [
      "[INFO] Processing https://www.foody.vn/ho-chi-minh/fruit-crush-trai-cay-tuoi-an-vat-quan-1\n",
      "\n"
     ]
    },
    {
     "name": "stderr",
     "output_type": "stream",
     "text": [
      "Progress :   9%|▉         | 10/110 [04:01<36:35, 21.96s/it]"
     ]
    },
    {
     "name": "stdout",
     "output_type": "stream",
     "text": [
      "[INFO] Processing https://www.foody.vn/ho-chi-minh/an-vat-co-thuy\n",
      "\n",
      "[WARNING] Not found enough review-item!!!\n"
     ]
    },
    {
     "name": "stderr",
     "output_type": "stream",
     "text": [
      "Progress :  10%|█         | 11/110 [04:46<47:40, 28.89s/it]"
     ]
    },
    {
     "name": "stdout",
     "output_type": "stream",
     "text": [
      "[INFO] Processing https://www.foody.vn/ho-chi-minh/quan-phuong-ky-com-chien-mi-xao\n",
      "\n",
      "[WARNING] Not found enough review-item!!!\n"
     ]
    },
    {
     "name": "stderr",
     "output_type": "stream",
     "text": [
      "Progress :  11%|█         | 12/110 [05:31<55:03, 33.71s/it]"
     ]
    },
    {
     "name": "stdout",
     "output_type": "stream",
     "text": [
      "[INFO] Processing https://www.foody.vn/ho-chi-minh/quan-phuong-ky-com-chien-mi-xao\n",
      "\n",
      "[WARNING] Not found enough review-item!!!\n"
     ]
    },
    {
     "name": "stderr",
     "output_type": "stream",
     "text": [
      "Progress :  12%|█▏        | 13/110 [06:18<1:00:55, 37.69s/it]"
     ]
    },
    {
     "name": "stdout",
     "output_type": "stream",
     "text": [
      "[INFO] Processing https://www.foody.vn/ho-chi-minh/sup-cua-nha-tho-duc-ba\n",
      "\n"
     ]
    },
    {
     "name": "stderr",
     "output_type": "stream",
     "text": [
      "Progress :  13%|█▎        | 14/110 [06:33<49:35, 30.99s/it]  "
     ]
    },
    {
     "name": "stdout",
     "output_type": "stream",
     "text": [
      "[INFO] Processing https://www.foody.vn/ho-chi-minh/pho-24-nguyen-tri-phuong\n",
      "\n"
     ]
    },
    {
     "name": "stderr",
     "output_type": "stream",
     "text": [
      "Progress :  14%|█▎        | 15/110 [06:48<41:25, 26.17s/it]"
     ]
    },
    {
     "name": "stdout",
     "output_type": "stream",
     "text": [
      "[INFO] Processing https://www.foody.vn/ho-chi-minh/hai-san-vietcrab-tan-ky-tan-quy\n",
      "\n",
      "[WARNING] Not found enough review-item!!!\n"
     ]
    },
    {
     "name": "stderr",
     "output_type": "stream",
     "text": [
      "Progress :  15%|█▍        | 16/110 [07:33<49:35, 31.66s/it]"
     ]
    },
    {
     "name": "stdout",
     "output_type": "stream",
     "text": [
      "[INFO] Processing https://www.foody.vn/ho-chi-minh/com-ga-chao-goi-ga-ta-tuong-vy-lu-gia\n",
      "\n"
     ]
    },
    {
     "name": "stderr",
     "output_type": "stream",
     "text": [
      "Progress :  15%|█▌        | 17/110 [07:49<41:47, 26.96s/it]"
     ]
    },
    {
     "name": "stdout",
     "output_type": "stream",
     "text": [
      "[INFO] Processing https://www.foody.vn/ho-chi-minh/steak-zone\n",
      "\n"
     ]
    },
    {
     "name": "stderr",
     "output_type": "stream",
     "text": [
      "Progress :  16%|█▋        | 18/110 [08:04<36:11, 23.60s/it]"
     ]
    },
    {
     "name": "stdout",
     "output_type": "stream",
     "text": [
      "[INFO] Processing https://www.foody.vn/ho-chi-minh/starbucks-coffee-etown-5\n",
      "\n",
      "[WARNING] Not found enough review-item!!!\n"
     ]
    },
    {
     "name": "stderr",
     "output_type": "stream",
     "text": [
      "Progress :  17%|█▋        | 19/110 [08:49<45:29, 30.00s/it]"
     ]
    },
    {
     "name": "stdout",
     "output_type": "stream",
     "text": [
      "[INFO] Processing https://www.foody.vn/ho-chi-minh/hanuri-korean-fast-food-nguyen-dinh-chieu\n",
      "\n"
     ]
    },
    {
     "name": "stderr",
     "output_type": "stream",
     "text": [
      "Progress :  18%|█▊        | 20/110 [09:05<38:39, 25.78s/it]"
     ]
    },
    {
     "name": "stdout",
     "output_type": "stream",
     "text": [
      "[INFO] Processing https://www.foody.vn/ho-chi-minh/nem-nuong-nha-trang-ut-muoi-cao-thang\n",
      "\n",
      "[WARNING] Not found enough review-item!!!\n"
     ]
    },
    {
     "name": "stderr",
     "output_type": "stream",
     "text": [
      "Progress :  19%|█▉        | 21/110 [09:50<46:44, 31.51s/it]"
     ]
    },
    {
     "name": "stdout",
     "output_type": "stream",
     "text": [
      "[INFO] Processing https://www.foody.vn/ho-chi-minh/oc-to-xom-chieu\n",
      "\n"
     ]
    },
    {
     "name": "stderr",
     "output_type": "stream",
     "text": [
      "Progress :  20%|██        | 22/110 [10:05<38:58, 26.58s/it]"
     ]
    },
    {
     "name": "stdout",
     "output_type": "stream",
     "text": [
      "[INFO] Processing https://www.foody.vn/ho-chi-minh/bun-dau-3-chi-em-le-van-quoi\n",
      "\n",
      "[WARNING] Not found enough review-item!!!\n"
     ]
    },
    {
     "name": "stderr",
     "output_type": "stream",
     "text": [
      "Progress :  21%|██        | 23/110 [10:49<46:16, 31.91s/it]"
     ]
    },
    {
     "name": "stdout",
     "output_type": "stream",
     "text": [
      "[INFO] Processing https://www.foody.vn/ho-chi-minh/3-rau-ga-ran-pizza-tra-sua-cay-tram\n",
      "\n",
      "[WARNING] Not found enough review-item!!!\n"
     ]
    },
    {
     "name": "stderr",
     "output_type": "stream",
     "text": [
      "Progress :  22%|██▏       | 24/110 [11:33<50:46, 35.43s/it]"
     ]
    },
    {
     "name": "stdout",
     "output_type": "stream",
     "text": [
      "[INFO] Processing https://www.foody.vn/ho-chi-minh/ga-ran-va-mi-y-jollibee-pasteur\n",
      "\n"
     ]
    },
    {
     "name": "stderr",
     "output_type": "stream",
     "text": [
      "Progress :  23%|██▎       | 25/110 [11:49<41:41, 29.43s/it]"
     ]
    },
    {
     "name": "stdout",
     "output_type": "stream",
     "text": [
      "[INFO] Processing https://www.foody.vn/ho-chi-minh/buzza-pizza-nowzone\n",
      "\n",
      "[WARNING] Not found enough review-item!!!\n"
     ]
    },
    {
     "name": "stderr",
     "output_type": "stream",
     "text": [
      "Progress :  24%|██▎       | 26/110 [12:33<47:36, 34.00s/it]"
     ]
    },
    {
     "name": "stdout",
     "output_type": "stream",
     "text": [
      "[INFO] Processing https://www.foody.vn/ho-chi-minh/sup-cua-goi-cuon-ba-ngoai-ly-thai-to\n",
      "\n",
      "[WARNING] Not found enough review-item!!!\n"
     ]
    },
    {
     "name": "stderr",
     "output_type": "stream",
     "text": [
      "Progress :  25%|██▍       | 27/110 [13:18<51:33, 37.27s/it]"
     ]
    },
    {
     "name": "stdout",
     "output_type": "stream",
     "text": [
      "[INFO] Processing https://www.foody.vn/ho-chi-minh/tous-les-jours-nguyen-thi-minh-khai\n",
      "\n"
     ]
    },
    {
     "name": "stderr",
     "output_type": "stream",
     "text": [
      "Progress :  25%|██▌       | 28/110 [13:34<42:14, 30.91s/it]"
     ]
    },
    {
     "name": "stdout",
     "output_type": "stream",
     "text": [
      "[INFO] Processing https://www.foody.vn/ho-chi-minh/diem-tam-288-do-ngoc-thanh\n",
      "\n",
      "[WARNING] Not found enough review-item!!!\n"
     ]
    },
    {
     "name": "stderr",
     "output_type": "stream",
     "text": [
      "Progress :  26%|██▋       | 29/110 [14:19<47:33, 35.23s/it]"
     ]
    },
    {
     "name": "stdout",
     "output_type": "stream",
     "text": [
      "[INFO] Processing https://www.foody.vn/ho-chi-minh/quan-chay-hoa-sen-nguyen-nhu-lam\n",
      "\n",
      "[WARNING] Not found enough review-item!!!\n"
     ]
    },
    {
     "name": "stderr",
     "output_type": "stream",
     "text": [
      "Progress :  27%|██▋       | 30/110 [15:04<50:48, 38.11s/it]"
     ]
    },
    {
     "name": "stdout",
     "output_type": "stream",
     "text": [
      "[INFO] Processing https://www.foody.vn/ho-chi-minh/chao-ech-tan-dinh-cho-tan-dinh\n",
      "\n",
      "[WARNING] Not found enough review-item!!!\n"
     ]
    },
    {
     "name": "stderr",
     "output_type": "stream",
     "text": [
      "Progress :  28%|██▊       | 31/110 [15:48<52:27, 39.84s/it]"
     ]
    },
    {
     "name": "stdout",
     "output_type": "stream",
     "text": [
      "[INFO] Processing https://www.foody.vn/ho-chi-minh/nem-nuong-nha-trang-be-thao\n",
      "\n"
     ]
    },
    {
     "name": "stderr",
     "output_type": "stream",
     "text": [
      "Progress :  29%|██▉       | 32/110 [16:04<42:15, 32.51s/it]"
     ]
    },
    {
     "name": "stdout",
     "output_type": "stream",
     "text": [
      "[INFO] Processing https://www.foody.vn/ho-chi-minh/texas-chicken-nguyen-thai-hoc\n",
      "\n"
     ]
    },
    {
     "name": "stderr",
     "output_type": "stream",
     "text": [
      "Progress :  30%|███       | 33/110 [16:19<35:02, 27.31s/it]"
     ]
    },
    {
     "name": "stdout",
     "output_type": "stream",
     "text": [
      "[INFO] Processing https://www.foody.vn/ho-chi-minh/mi-tron-ten-lua-462-tran-hung-dao\n",
      "\n"
     ]
    },
    {
     "name": "stderr",
     "output_type": "stream",
     "text": [
      "Progress :  31%|███       | 34/110 [16:34<29:58, 23.66s/it]"
     ]
    },
    {
     "name": "stdout",
     "output_type": "stream",
     "text": [
      "[INFO] Processing https://www.foody.vn/ho-chi-minh/domino-s-pizza-hoa-binh\n",
      "\n"
     ]
    },
    {
     "name": "stderr",
     "output_type": "stream",
     "text": [
      "Progress :  32%|███▏      | 35/110 [16:50<26:51, 21.49s/it]"
     ]
    },
    {
     "name": "stdout",
     "output_type": "stream",
     "text": [
      "[INFO] Processing https://www.foody.vn/ho-chi-minh/com-ga-xoi-mo-su-su\n",
      "\n"
     ]
    },
    {
     "name": "stderr",
     "output_type": "stream",
     "text": [
      "Progress :  33%|███▎      | 36/110 [17:06<24:23, 19.78s/it]"
     ]
    },
    {
     "name": "stdout",
     "output_type": "stream",
     "text": [
      "[INFO] Processing https://www.foody.vn/ho-chi-minh/soi-thai-cong-quynh\n",
      "\n",
      "[WARNING] Not found enough review-item!!!\n"
     ]
    },
    {
     "name": "stderr",
     "output_type": "stream",
     "text": [
      "Progress :  34%|███▎      | 37/110 [17:51<33:12, 27.29s/it]"
     ]
    },
    {
     "name": "stdout",
     "output_type": "stream",
     "text": [
      "[INFO] Processing https://www.foody.vn/ho-chi-minh/kfc-co-op-mart-nguyen-anh-thu\n",
      "\n"
     ]
    },
    {
     "name": "stderr",
     "output_type": "stream",
     "text": [
      "Progress :  35%|███▍      | 38/110 [18:07<28:31, 23.77s/it]"
     ]
    },
    {
     "name": "stdout",
     "output_type": "stream",
     "text": [
      "[INFO] Processing https://www.foody.vn/ho-chi-minh/chao-suon-chu-chen\n",
      "\n"
     ]
    },
    {
     "name": "stderr",
     "output_type": "stream",
     "text": [
      "Progress :  35%|███▌      | 39/110 [18:22<25:12, 21.30s/it]"
     ]
    },
    {
     "name": "stdout",
     "output_type": "stream",
     "text": [
      "[INFO] Processing https://www.foody.vn/ho-chi-minh/highlands-coffee-tra-ca-phe-banh-flora-thu-duc\n",
      "\n",
      "[WARNING] Not found enough review-item!!!\n"
     ]
    },
    {
     "name": "stderr",
     "output_type": "stream",
     "text": [
      "Progress :  36%|███▋      | 40/110 [19:06<32:55, 28.22s/it]"
     ]
    },
    {
     "name": "stdout",
     "output_type": "stream",
     "text": [
      "[INFO] Processing https://www.foody.vn/ho-chi-minh/fa-banh-trang-trung-muoi-mo-hanh\n",
      "\n",
      "[WARNING] Not found enough review-item!!!\n"
     ]
    },
    {
     "name": "stderr",
     "output_type": "stream",
     "text": [
      "Progress :  37%|███▋      | 41/110 [19:51<38:01, 33.07s/it]"
     ]
    },
    {
     "name": "stdout",
     "output_type": "stream",
     "text": [
      "[INFO] Processing https://www.foody.vn/ho-chi-minh/tini-tea-duong-so-42\n",
      "\n",
      "[WARNING] Not found enough review-item!!!\n"
     ]
    },
    {
     "name": "stderr",
     "output_type": "stream",
     "text": [
      "Progress :  38%|███▊      | 42/110 [20:35<41:21, 36.49s/it]"
     ]
    },
    {
     "name": "stdout",
     "output_type": "stream",
     "text": [
      "[INFO] Processing https://www.foody.vn/ho-chi-minh/tra-sua-tien-huong-tan-da\n",
      "\n"
     ]
    },
    {
     "name": "stderr",
     "output_type": "stream",
     "text": [
      "Progress :  39%|███▉      | 43/110 [20:52<33:59, 30.44s/it]"
     ]
    },
    {
     "name": "stdout",
     "output_type": "stream",
     "text": [
      "[INFO] Processing https://www.foody.vn/ho-chi-minh/huyen-bun-nuoc-hem-49\n",
      "\n"
     ]
    },
    {
     "name": "stderr",
     "output_type": "stream",
     "text": [
      "Progress :  40%|████      | 44/110 [21:08<28:45, 26.14s/it]"
     ]
    },
    {
     "name": "stdout",
     "output_type": "stream",
     "text": [
      "[INFO] Processing https://www.foody.vn/ho-chi-minh/tra-sua-panda-milktea\n",
      "\n",
      "[WARNING] Not found enough review-item!!!\n"
     ]
    },
    {
     "name": "stderr",
     "output_type": "stream",
     "text": [
      "Progress :  41%|████      | 45/110 [21:56<35:31, 32.80s/it]"
     ]
    },
    {
     "name": "stdout",
     "output_type": "stream",
     "text": [
      "[INFO] Processing https://www.foody.vn/ho-chi-minh/quan-nem-nguyen-thi-minh-khai\n",
      "\n"
     ]
    },
    {
     "name": "stderr",
     "output_type": "stream",
     "text": [
      "Progress :  42%|████▏     | 46/110 [22:11<29:25, 27.58s/it]"
     ]
    },
    {
     "name": "stdout",
     "output_type": "stream",
     "text": [
      "[INFO] Processing https://www.foody.vn/ho-chi-minh/katinat-huynh-thuc-khang\n",
      "\n",
      "[WARNING] Not found enough review-item!!!\n"
     ]
    },
    {
     "name": "stderr",
     "output_type": "stream",
     "text": [
      "Progress :  43%|████▎     | 47/110 [22:57<34:37, 32.97s/it]"
     ]
    },
    {
     "name": "stdout",
     "output_type": "stream",
     "text": [
      "[INFO] Processing https://www.foody.vn/ho-chi-minh/chi-mai-banh-trang-tron-nuoc-cam\n",
      "\n"
     ]
    },
    {
     "name": "stderr",
     "output_type": "stream",
     "text": [
      "Progress :  44%|████▎     | 48/110 [23:11<28:16, 27.36s/it]"
     ]
    },
    {
     "name": "stdout",
     "output_type": "stream",
     "text": [
      "[INFO] Processing https://www.foody.vn/ho-chi-minh/lasimi-tan-phu-tra-ngon-dam-vi-tan-son-nhi\n",
      "\n",
      "[WARNING] Not found enough review-item!!!\n"
     ]
    },
    {
     "name": "stderr",
     "output_type": "stream",
     "text": [
      "Progress :  45%|████▍     | 49/110 [23:55<32:52, 32.34s/it]"
     ]
    },
    {
     "name": "stdout",
     "output_type": "stream",
     "text": [
      "[INFO] Processing https://www.foody.vn/ho-chi-minh/phuc-long-le-duc-tho\n",
      "\n",
      "[WARNING] Not found enough review-item!!!\n"
     ]
    },
    {
     "name": "stderr",
     "output_type": "stream",
     "text": [
      "Progress :  45%|████▌     | 50/110 [24:39<35:46, 35.77s/it]"
     ]
    },
    {
     "name": "stdout",
     "output_type": "stream",
     "text": [
      "[INFO] Processing https://www.foody.vn/ho-chi-minh/banh-trang-tron-nguyen-an-ninh-an-vat-039-lo-m-chung-cu-ngo-gia-tu\n",
      "\n",
      "[WARNING] Not found enough review-item!!!\n"
     ]
    },
    {
     "name": "stderr",
     "output_type": "stream",
     "text": [
      "Progress :  46%|████▋     | 51/110 [25:24<37:51, 38.51s/it]"
     ]
    },
    {
     "name": "stdout",
     "output_type": "stream",
     "text": [
      "[INFO] Processing https://www.foody.vn/ho-chi-minh/tiem-banh-my-phung\n",
      "\n",
      "[WARNING] Not found enough review-item!!!\n"
     ]
    },
    {
     "name": "stderr",
     "output_type": "stream",
     "text": [
      "Progress :  47%|████▋     | 52/110 [26:08<38:50, 40.19s/it]"
     ]
    },
    {
     "name": "stdout",
     "output_type": "stream",
     "text": [
      "[INFO] Processing https://www.foody.vn/ho-chi-minh/bonchon-chicken-aeon-tan-phu\n",
      "\n",
      "[WARNING] Not found enough review-item!!!\n"
     ]
    },
    {
     "name": "stderr",
     "output_type": "stream",
     "text": [
      "Progress :  48%|████▊     | 53/110 [26:52<39:23, 41.46s/it]"
     ]
    },
    {
     "name": "stdout",
     "output_type": "stream",
     "text": [
      "[INFO] Processing https://www.foody.vn/ho-chi-minh/mien-cua-94\n",
      "\n"
     ]
    },
    {
     "name": "stderr",
     "output_type": "stream",
     "text": [
      "Progress :  49%|████▉     | 54/110 [27:08<31:25, 33.67s/it]"
     ]
    },
    {
     "name": "stdout",
     "output_type": "stream",
     "text": [
      "[INFO] Processing https://www.foody.vn/ho-chi-minh/moon-fast-food-mon-han-truong-chinh\n",
      "\n"
     ]
    },
    {
     "name": "stderr",
     "output_type": "stream",
     "text": [
      "Progress :  50%|█████     | 55/110 [27:23<25:53, 28.24s/it]"
     ]
    },
    {
     "name": "stdout",
     "output_type": "stream",
     "text": [
      "[INFO] Processing https://www.foody.vn/ho-chi-minh/yogun-korea-yogurt\n",
      "\n",
      "[WARNING] Not found enough review-item!!!\n"
     ]
    },
    {
     "name": "stderr",
     "output_type": "stream",
     "text": [
      "Progress :  51%|█████     | 56/110 [28:08<29:47, 33.09s/it]"
     ]
    },
    {
     "name": "stdout",
     "output_type": "stream",
     "text": [
      "[INFO] Processing https://www.foody.vn/ho-chi-minh/tiem-co-beo-bun-thai-lan\n",
      "\n"
     ]
    },
    {
     "name": "stderr",
     "output_type": "stream",
     "text": [
      "Progress :  52%|█████▏    | 57/110 [28:24<24:38, 27.89s/it]"
     ]
    },
    {
     "name": "stdout",
     "output_type": "stream",
     "text": [
      "[INFO] Processing https://www.foody.vn/ho-chi-minh/a-tung-banh-mi-bo-nuong-bo-cambodia-le-hong-phong\n",
      "\n"
     ]
    },
    {
     "name": "stderr",
     "output_type": "stream",
     "text": [
      "Progress :  53%|█████▎    | 58/110 [28:39<21:00, 24.23s/it]"
     ]
    },
    {
     "name": "stdout",
     "output_type": "stream",
     "text": [
      "[INFO] Processing https://www.foody.vn/ho-chi-minh/tra-sua-wozzi\n",
      "\n"
     ]
    },
    {
     "name": "stderr",
     "output_type": "stream",
     "text": [
      "Progress :  54%|█████▎    | 59/110 [28:55<18:27, 21.72s/it]"
     ]
    },
    {
     "name": "stdout",
     "output_type": "stream",
     "text": [
      "[INFO] Processing https://www.foody.vn/ho-chi-minh/koi-the-cafe-vo-van-ngan\n",
      "\n"
     ]
    },
    {
     "name": "stderr",
     "output_type": "stream",
     "text": [
      "Progress :  55%|█████▍    | 60/110 [29:11<16:39, 20.00s/it]"
     ]
    },
    {
     "name": "stdout",
     "output_type": "stream",
     "text": [
      "[INFO] Processing https://www.foody.vn/ho-chi-minh/the-pizza-company-duong-d2\n",
      "\n"
     ]
    },
    {
     "name": "stderr",
     "output_type": "stream",
     "text": [
      "Progress :  55%|█████▌    | 61/110 [29:27<15:12, 18.62s/it]"
     ]
    },
    {
     "name": "stdout",
     "output_type": "stream",
     "text": [
      "[INFO] Processing https://www.foody.vn/ho-chi-minh/ga-ran-kfc-lam-van-ben\n",
      "\n",
      "[WARNING] Not found enough review-item!!!\n"
     ]
    },
    {
     "name": "stderr",
     "output_type": "stream",
     "text": [
      "Progress :  56%|█████▋    | 62/110 [30:12<21:12, 26.51s/it]"
     ]
    },
    {
     "name": "stdout",
     "output_type": "stream",
     "text": [
      "[INFO] Processing https://www.foody.vn/ho-chi-minh/goi-kho-bo-380\n",
      "\n",
      "[WARNING] Not found enough review-item!!!\n"
     ]
    },
    {
     "name": "stderr",
     "output_type": "stream",
     "text": [
      "Progress :  57%|█████▋    | 63/110 [30:56<25:00, 31.93s/it]"
     ]
    },
    {
     "name": "stdout",
     "output_type": "stream",
     "text": [
      "[INFO] Processing https://www.foody.vn/ho-chi-minh/goi-bo-kho\n",
      "\n"
     ]
    },
    {
     "name": "stderr",
     "output_type": "stream",
     "text": [
      "Progress :  58%|█████▊    | 64/110 [31:12<20:52, 27.22s/it]"
     ]
    },
    {
     "name": "stdout",
     "output_type": "stream",
     "text": [
      "[INFO] Processing https://www.foody.vn/ho-chi-minh/5-6-7-cafe\n",
      "\n"
     ]
    },
    {
     "name": "stderr",
     "output_type": "stream",
     "text": [
      "Progress :  59%|█████▉    | 65/110 [31:28<17:48, 23.75s/it]"
     ]
    },
    {
     "name": "stdout",
     "output_type": "stream",
     "text": [
      "[INFO] Processing https://www.foody.vn/ho-chi-minh/banh-xeo-ba-hai-le-van-linh\n",
      "\n"
     ]
    },
    {
     "name": "stderr",
     "output_type": "stream",
     "text": [
      "Progress :  60%|██████    | 66/110 [31:44<15:38, 21.33s/it]"
     ]
    },
    {
     "name": "stdout",
     "output_type": "stream",
     "text": [
      "[INFO] Processing https://www.foody.vn/ho-chi-minh/chi-ha-banh-trang-tron-banh-mi-nuong-muoi-ot\n",
      "\n",
      "[WARNING] Not found enough review-item!!!\n"
     ]
    },
    {
     "name": "stderr",
     "output_type": "stream",
     "text": [
      "Progress :  61%|██████    | 67/110 [32:29<20:25, 28.51s/it]"
     ]
    },
    {
     "name": "stdout",
     "output_type": "stream",
     "text": [
      "[INFO] Processing https://www.foody.vn/ho-chi-minh/hot-vit-lon-ho-thi-ky\n",
      "\n"
     ]
    },
    {
     "name": "stderr",
     "output_type": "stream",
     "text": [
      "Progress :  62%|██████▏   | 68/110 [32:45<17:23, 24.84s/it]"
     ]
    },
    {
     "name": "stdout",
     "output_type": "stream",
     "text": [
      "[INFO] Processing https://www.foody.vn/ho-chi-minh/banh-cam-123a-banh-cam-banh-xep-tran-huu-trang\n",
      "\n",
      "[WARNING] Not found enough review-item!!!\n"
     ]
    },
    {
     "name": "stderr",
     "output_type": "stream",
     "text": [
      "Progress :  63%|██████▎   | 69/110 [33:30<21:10, 30.98s/it]"
     ]
    },
    {
     "name": "stdout",
     "output_type": "stream",
     "text": [
      "[INFO] Processing https://www.foody.vn/ho-chi-minh/papaxot\n",
      "\n"
     ]
    },
    {
     "name": "stderr",
     "output_type": "stream",
     "text": [
      "Progress :  64%|██████▎   | 70/110 [33:47<17:45, 26.64s/it]"
     ]
    },
    {
     "name": "stdout",
     "output_type": "stream",
     "text": [
      "[INFO] Processing https://www.foody.vn/ho-chi-minh/quan-ty-bun-cha-ca-da-nang\n",
      "\n",
      "[WARNING] Not found enough review-item!!!\n"
     ]
    },
    {
     "name": "stderr",
     "output_type": "stream",
     "text": [
      "Progress :  65%|██████▍   | 71/110 [34:33<21:03, 32.40s/it]"
     ]
    },
    {
     "name": "stdout",
     "output_type": "stream",
     "text": [
      "[INFO] Processing https://www.foody.vn/ho-chi-minh/ca-vien-chien-176-tran-thien-chanh\n",
      "\n",
      "[WARNING] Not found enough review-item!!!\n"
     ]
    },
    {
     "name": "stderr",
     "output_type": "stream",
     "text": [
      "Progress :  65%|██████▌   | 72/110 [35:17<22:49, 36.04s/it]"
     ]
    },
    {
     "name": "stdout",
     "output_type": "stream",
     "text": [
      "[INFO] Processing https://www.foody.vn/ho-chi-minh/bun-mam-co-ba-hoa-binh\n",
      "\n",
      "[WARNING] Not found enough review-item!!!\n"
     ]
    },
    {
     "name": "stderr",
     "output_type": "stream",
     "text": [
      "Progress :  66%|██████▋   | 73/110 [36:02<23:48, 38.61s/it]"
     ]
    },
    {
     "name": "stdout",
     "output_type": "stream",
     "text": [
      "[INFO] Processing https://www.foody.vn/ho-chi-minh/fruit-crush-trai-cay-tuoi-an-vat-quan-1\n",
      "\n"
     ]
    },
    {
     "name": "stderr",
     "output_type": "stream",
     "text": [
      "Progress :  67%|██████▋   | 74/110 [36:18<19:05, 31.82s/it]"
     ]
    },
    {
     "name": "stdout",
     "output_type": "stream",
     "text": [
      "[INFO] Processing https://www.foody.vn/ho-chi-minh/gong-cha-tra-ca-phe-ho-tung-mau\n",
      "\n"
     ]
    },
    {
     "name": "stderr",
     "output_type": "stream",
     "text": [
      "Progress :  68%|██████▊   | 75/110 [36:33<15:41, 26.90s/it]"
     ]
    },
    {
     "name": "stdout",
     "output_type": "stream",
     "text": [
      "[INFO] Processing https://www.foody.vn/ho-chi-minh/com-tam-kieu-giang\n",
      "\n"
     ]
    },
    {
     "name": "stderr",
     "output_type": "stream",
     "text": [
      "Progress :  69%|██████▉   | 76/110 [36:49<13:16, 23.43s/it]"
     ]
    },
    {
     "name": "stdout",
     "output_type": "stream",
     "text": [
      "[INFO] Processing https://www.foody.vn/ho-chi-minh/ga-ran-popeyes-dien-bien-phu\n",
      "\n"
     ]
    },
    {
     "name": "stderr",
     "output_type": "stream",
     "text": [
      "Progress :  70%|███████   | 77/110 [37:04<11:34, 21.06s/it]"
     ]
    },
    {
     "name": "stdout",
     "output_type": "stream",
     "text": [
      "[INFO] Processing https://www.foody.vn/ho-chi-minh/bun-nuoc-tuong-mr-nhoi-nguyen-thuong-hien\n",
      "\n"
     ]
    },
    {
     "name": "stderr",
     "output_type": "stream",
     "text": [
      "Progress :  71%|███████   | 78/110 [37:20<10:20, 19.39s/it]"
     ]
    },
    {
     "name": "stdout",
     "output_type": "stream",
     "text": [
      "[INFO] Processing https://www.foody.vn/ho-chi-minh/phuc-long-le-van-sy\n",
      "\n"
     ]
    },
    {
     "name": "stderr",
     "output_type": "stream",
     "text": [
      "Progress :  72%|███████▏  | 79/110 [37:36<09:28, 18.33s/it]"
     ]
    },
    {
     "name": "stdout",
     "output_type": "stream",
     "text": [
      "[INFO] Processing https://www.foody.vn/ho-chi-minh/che-ha-ky\n",
      "\n"
     ]
    },
    {
     "name": "stderr",
     "output_type": "stream",
     "text": [
      "Progress :  73%|███████▎  | 80/110 [37:51<08:45, 17.52s/it]"
     ]
    },
    {
     "name": "stdout",
     "output_type": "stream",
     "text": [
      "[INFO] Processing https://www.foody.vn/ho-chi-minh/cheese-coffee-hong-bang\n",
      "\n"
     ]
    },
    {
     "name": "stderr",
     "output_type": "stream",
     "text": [
      "Progress :  74%|███████▎  | 81/110 [38:07<08:11, 16.94s/it]"
     ]
    },
    {
     "name": "stdout",
     "output_type": "stream",
     "text": [
      "[INFO] Processing https://www.foody.vn/ho-chi-minh/che-hongkong-%E6%B8%AF%E5%BC%8F%E7%B3%96%E6%B0%B4-phan-phu-tien\n",
      "\n"
     ]
    },
    {
     "name": "stderr",
     "output_type": "stream",
     "text": [
      "Progress :  75%|███████▍  | 82/110 [38:22<07:41, 16.48s/it]"
     ]
    },
    {
     "name": "stdout",
     "output_type": "stream",
     "text": [
      "[INFO] Processing https://www.foody.vn/ho-chi-minh/kebab-sai-gon-nguyen-thuong-hien\n",
      "\n"
     ]
    },
    {
     "name": "stderr",
     "output_type": "stream",
     "text": [
      "Progress :  75%|███████▌  | 83/110 [38:38<07:15, 16.15s/it]"
     ]
    },
    {
     "name": "stdout",
     "output_type": "stream",
     "text": [
      "[INFO] Processing https://www.foody.vn/ho-chi-minh/ga-ran-burger-mcdonald-s-vincom-masteri\n",
      "\n"
     ]
    },
    {
     "name": "stderr",
     "output_type": "stream",
     "text": [
      "Progress :  76%|███████▋  | 84/110 [38:53<06:55, 15.99s/it]"
     ]
    },
    {
     "name": "stdout",
     "output_type": "stream",
     "text": [
      "[INFO] Processing https://www.foody.vn/ho-chi-minh/quan-79-nem-nuong\n",
      "\n"
     ]
    },
    {
     "name": "stderr",
     "output_type": "stream",
     "text": [
      "Progress :  77%|███████▋  | 85/110 [39:09<06:36, 15.88s/it]"
     ]
    },
    {
     "name": "stdout",
     "output_type": "stream",
     "text": [
      "[INFO] Processing https://www.foody.vn/ho-chi-minh/com-tam-co-hoa-ngo-quyen\n",
      "\n",
      "[WARNING] Not found enough review-item!!!\n"
     ]
    },
    {
     "name": "stderr",
     "output_type": "stream",
     "text": [
      "Progress :  78%|███████▊  | 86/110 [39:54<09:50, 24.61s/it]"
     ]
    },
    {
     "name": "stdout",
     "output_type": "stream",
     "text": [
      "[INFO] Processing https://www.foody.vn/ho-chi-minh/bun-rieu-canh-bun-phan-dinh-phung\n",
      "\n"
     ]
    },
    {
     "name": "stderr",
     "output_type": "stream",
     "text": [
      "Progress :  79%|███████▉  | 87/110 [40:10<08:25, 21.96s/it]"
     ]
    },
    {
     "name": "stdout",
     "output_type": "stream",
     "text": [
      "[INFO] Processing https://www.foody.vn/ho-chi-minh/bun-thit-nuong-anh-ba\n",
      "\n"
     ]
    },
    {
     "name": "stderr",
     "output_type": "stream",
     "text": [
      "Progress :  80%|████████  | 88/110 [40:25<07:21, 20.06s/it]"
     ]
    },
    {
     "name": "stdout",
     "output_type": "stream",
     "text": [
      "[INFO] Processing https://www.foody.vn/ho-chi-minh/koi-the-phan-xich-long\n",
      "\n"
     ]
    },
    {
     "name": "stderr",
     "output_type": "stream",
     "text": [
      "Progress :  81%|████████  | 89/110 [40:40<06:30, 18.60s/it]"
     ]
    },
    {
     "name": "stdout",
     "output_type": "stream",
     "text": [
      "[INFO] Processing https://www.foody.vn/ho-chi-minh/the-pizza-company-duong-d2\n",
      "\n"
     ]
    },
    {
     "name": "stderr",
     "output_type": "stream",
     "text": [
      "Progress :  82%|████████▏ | 90/110 [40:56<05:54, 17.72s/it]"
     ]
    },
    {
     "name": "stdout",
     "output_type": "stream",
     "text": [
      "[INFO] Processing https://www.foody.vn/ho-chi-minh/viet-huong-ga-nuong-lu\n",
      "\n",
      "[WARNING] Cannot get one of username information of https://www.foody.vn/ho-chi-minh/viet-huong-ga-nuong-lu\n",
      "[WARNING] Cannot get one of describle feedback of https://www.foody.vn/ho-chi-minh/viet-huong-ga-nuong-lu\n",
      "[WARNING] Cannot get one of review points information of https://www.foody.vn/ho-chi-minh/viet-huong-ga-nuong-lu\n",
      "[WARNING] Cannot get one of username information of https://www.foody.vn/ho-chi-minh/viet-huong-ga-nuong-lu\n",
      "[WARNING] Cannot get one of describle feedback of https://www.foody.vn/ho-chi-minh/viet-huong-ga-nuong-lu\n",
      "[WARNING] Cannot get one of review points information of https://www.foody.vn/ho-chi-minh/viet-huong-ga-nuong-lu\n",
      "[WARNING] Cannot get one of username information of https://www.foody.vn/ho-chi-minh/viet-huong-ga-nuong-lu\n",
      "[WARNING] Cannot get one of describle feedback of https://www.foody.vn/ho-chi-minh/viet-huong-ga-nuong-lu\n",
      "[WARNING] Cannot get one of review points information of https://www.foody.vn/ho-chi-minh/viet-huong-ga-nuong-lu\n",
      "[WARNING] Cannot get one of username information of https://www.foody.vn/ho-chi-minh/viet-huong-ga-nuong-lu\n",
      "[WARNING] Cannot get one of describle feedback of https://www.foody.vn/ho-chi-minh/viet-huong-ga-nuong-lu\n",
      "[WARNING] Cannot get one of review points information of https://www.foody.vn/ho-chi-minh/viet-huong-ga-nuong-lu\n",
      "[WARNING] Cannot get one of username information of https://www.foody.vn/ho-chi-minh/viet-huong-ga-nuong-lu\n",
      "[WARNING] Cannot get one of describle feedback of https://www.foody.vn/ho-chi-minh/viet-huong-ga-nuong-lu\n",
      "[WARNING] Cannot get one of review points information of https://www.foody.vn/ho-chi-minh/viet-huong-ga-nuong-lu\n",
      "[WARNING] Cannot get one of username information of https://www.foody.vn/ho-chi-minh/viet-huong-ga-nuong-lu\n",
      "[WARNING] Cannot get one of describle feedback of https://www.foody.vn/ho-chi-minh/viet-huong-ga-nuong-lu\n",
      "[WARNING] Cannot get one of review points information of https://www.foody.vn/ho-chi-minh/viet-huong-ga-nuong-lu\n",
      "[WARNING] Cannot get one of username information of https://www.foody.vn/ho-chi-minh/viet-huong-ga-nuong-lu\n",
      "[WARNING] Cannot get one of describle feedback of https://www.foody.vn/ho-chi-minh/viet-huong-ga-nuong-lu\n",
      "[WARNING] Cannot get one of review points information of https://www.foody.vn/ho-chi-minh/viet-huong-ga-nuong-lu\n",
      "[WARNING] Cannot get one of username information of https://www.foody.vn/ho-chi-minh/viet-huong-ga-nuong-lu\n",
      "[WARNING] Cannot get one of describle feedback of https://www.foody.vn/ho-chi-minh/viet-huong-ga-nuong-lu\n",
      "[WARNING] Cannot get one of review points information of https://www.foody.vn/ho-chi-minh/viet-huong-ga-nuong-lu\n",
      "[WARNING] Cannot get one of username information of https://www.foody.vn/ho-chi-minh/viet-huong-ga-nuong-lu\n",
      "[WARNING] Cannot get one of describle feedback of https://www.foody.vn/ho-chi-minh/viet-huong-ga-nuong-lu\n",
      "[WARNING] Cannot get one of review points information of https://www.foody.vn/ho-chi-minh/viet-huong-ga-nuong-lu\n",
      "[WARNING] Cannot get one of username information of https://www.foody.vn/ho-chi-minh/viet-huong-ga-nuong-lu\n",
      "[WARNING] Cannot get one of describle feedback of https://www.foody.vn/ho-chi-minh/viet-huong-ga-nuong-lu\n",
      "[WARNING] Cannot get one of review points information of https://www.foody.vn/ho-chi-minh/viet-huong-ga-nuong-lu\n",
      "[WARNING] Cannot get one of username information of https://www.foody.vn/ho-chi-minh/viet-huong-ga-nuong-lu\n",
      "[WARNING] Cannot get one of describle feedback of https://www.foody.vn/ho-chi-minh/viet-huong-ga-nuong-lu\n",
      "[WARNING] Cannot get one of review points information of https://www.foody.vn/ho-chi-minh/viet-huong-ga-nuong-lu\n",
      "[WARNING] Cannot get one of username information of https://www.foody.vn/ho-chi-minh/viet-huong-ga-nuong-lu\n",
      "[WARNING] Cannot get one of describle feedback of https://www.foody.vn/ho-chi-minh/viet-huong-ga-nuong-lu\n",
      "[WARNING] Cannot get one of review points information of https://www.foody.vn/ho-chi-minh/viet-huong-ga-nuong-lu\n",
      "[WARNING] Cannot get one of username information of https://www.foody.vn/ho-chi-minh/viet-huong-ga-nuong-lu\n",
      "[WARNING] Cannot get one of describle feedback of https://www.foody.vn/ho-chi-minh/viet-huong-ga-nuong-lu\n",
      "[WARNING] Cannot get one of review points information of https://www.foody.vn/ho-chi-minh/viet-huong-ga-nuong-lu\n",
      "[WARNING] Cannot get one of username information of https://www.foody.vn/ho-chi-minh/viet-huong-ga-nuong-lu\n",
      "[WARNING] Cannot get one of describle feedback of https://www.foody.vn/ho-chi-minh/viet-huong-ga-nuong-lu\n"
     ]
    },
    {
     "name": "stderr",
     "output_type": "stream",
     "text": [
      "Progress :  83%|████████▎ | 91/110 [48:42<48:13, 152.30s/it]"
     ]
    },
    {
     "name": "stdout",
     "output_type": "stream",
     "text": [
      "[INFO] Processing https://www.foody.vn/ho-chi-minh/anh-tu-ga-nuong\n",
      "\n"
     ]
    },
    {
     "name": "stderr",
     "output_type": "stream",
     "text": [
      "Progress :  84%|████████▎ | 92/110 [48:58<33:25, 111.40s/it]"
     ]
    },
    {
     "name": "stdout",
     "output_type": "stream",
     "text": [
      "[INFO] Processing https://www.foody.vn/ho-chi-minh/tra-sua-tien-huong-gotcha-huynh-man-dat\n",
      "\n"
     ]
    },
    {
     "name": "stderr",
     "output_type": "stream",
     "text": [
      "Progress :  85%|████████▍ | 93/110 [49:14<23:23, 82.59s/it] "
     ]
    },
    {
     "name": "stdout",
     "output_type": "stream",
     "text": [
      "[INFO] Processing https://www.foody.vn/ho-chi-minh/xoi-ga-ba-chieu\n",
      "\n"
     ]
    },
    {
     "name": "stderr",
     "output_type": "stream",
     "text": [
      "Progress :  85%|████████▌ | 94/110 [49:29<16:39, 62.45s/it]"
     ]
    },
    {
     "name": "stdout",
     "output_type": "stream",
     "text": [
      "[INFO] Processing https://www.foody.vn/ho-chi-minh/bot-chien-khoai-mon-van-kiep\n",
      "\n"
     ]
    },
    {
     "name": "stderr",
     "output_type": "stream",
     "text": [
      "Progress :  86%|████████▋ | 95/110 [49:44<12:01, 48.13s/it]"
     ]
    },
    {
     "name": "stdout",
     "output_type": "stream",
     "text": [
      "[INFO] Processing https://www.foody.vn/ho-chi-minh/kebaby-doner-kebab\n",
      "\n"
     ]
    },
    {
     "name": "stderr",
     "output_type": "stream",
     "text": [
      "Progress :  87%|████████▋ | 96/110 [49:59<08:56, 38.31s/it]"
     ]
    },
    {
     "name": "stdout",
     "output_type": "stream",
     "text": [
      "[INFO] Processing https://www.foody.vn/ho-chi-minh/tuan-co-com-ga-xoi-mo\n",
      "\n"
     ]
    },
    {
     "name": "stderr",
     "output_type": "stream",
     "text": [
      "Progress :  88%|████████▊ | 97/110 [50:14<06:47, 31.38s/it]"
     ]
    },
    {
     "name": "stdout",
     "output_type": "stream",
     "text": [
      "[INFO] Processing https://www.foody.vn/ho-chi-minh/pad-thai-tom-mon-thai-ngon\n",
      "\n"
     ]
    },
    {
     "name": "stderr",
     "output_type": "stream",
     "text": [
      "Progress :  89%|████████▉ | 98/110 [50:30<05:18, 26.52s/it]"
     ]
    },
    {
     "name": "stdout",
     "output_type": "stream",
     "text": [
      "[INFO] Processing https://www.foody.vn/ho-chi-minh/jeju-quan-mon-an-han-quoc\n",
      "\n"
     ]
    },
    {
     "name": "stderr",
     "output_type": "stream",
     "text": [
      "Progress :  90%|█████████ | 99/110 [50:45<04:14, 23.15s/it]"
     ]
    },
    {
     "name": "stdout",
     "output_type": "stream",
     "text": [
      "[INFO] Processing https://www.foody.vn/ho-chi-minh/ga-ran-popeyes-tung-thien-vuong\n",
      "\n"
     ]
    },
    {
     "name": "stderr",
     "output_type": "stream",
     "text": [
      "Progress :  91%|█████████ | 100/110 [51:01<03:30, 21.01s/it]"
     ]
    },
    {
     "name": "stdout",
     "output_type": "stream",
     "text": [
      "[INFO] Processing https://www.foody.vn/ho-chi-minh/quan-cha-ba-muc-chien-bo-vien-mai-xuan-thuong\n",
      "\n"
     ]
    },
    {
     "name": "stderr",
     "output_type": "stream",
     "text": [
      "Progress :  92%|█████████▏| 101/110 [51:17<02:55, 19.49s/it]"
     ]
    },
    {
     "name": "stdout",
     "output_type": "stream",
     "text": [
      "[INFO] Processing https://www.foody.vn/ho-chi-minh/phi-phi-quan-com-ga-xoi-mo\n",
      "\n"
     ]
    },
    {
     "name": "stderr",
     "output_type": "stream",
     "text": [
      "Progress :  93%|█████████▎| 102/110 [51:33<02:27, 18.38s/it]"
     ]
    },
    {
     "name": "stdout",
     "output_type": "stream",
     "text": [
      "[INFO] Processing https://www.foody.vn/ho-chi-minh/com-ga-hai-nam-hau-giang\n",
      "\n"
     ]
    },
    {
     "name": "stderr",
     "output_type": "stream",
     "text": [
      "Progress :  94%|█████████▎| 103/110 [51:48<02:01, 17.43s/it]"
     ]
    },
    {
     "name": "stdout",
     "output_type": "stream",
     "text": [
      "[INFO] Processing https://www.foody.vn/ho-chi-minh/nha-bun-dau-bun-dau-mam-tom-ha-noi-song-hanh\n",
      "\n"
     ]
    },
    {
     "name": "stderr",
     "output_type": "stream",
     "text": [
      "Progress :  95%|█████████▍| 104/110 [52:03<01:41, 16.84s/it]"
     ]
    },
    {
     "name": "stdout",
     "output_type": "stream",
     "text": [
      "[INFO] Processing https://www.foody.vn/ho-chi-minh/pha-lau-rubi\n",
      "\n"
     ]
    },
    {
     "name": "stderr",
     "output_type": "stream",
     "text": [
      "Progress :  95%|█████████▌| 105/110 [52:19<01:21, 16.35s/it]"
     ]
    },
    {
     "name": "stdout",
     "output_type": "stream",
     "text": [
      "[INFO] Processing https://www.foody.vn/ho-chi-minh/banh-cuon-ba-mien\n",
      "\n"
     ]
    },
    {
     "name": "stderr",
     "output_type": "stream",
     "text": [
      "Progress :  96%|█████████▋| 106/110 [52:34<01:03, 15.96s/it]"
     ]
    },
    {
     "name": "stdout",
     "output_type": "stream",
     "text": [
      "[INFO] Processing https://www.foody.vn/ho-chi-minh/quan-thao-hien-dac-san-mien-trung\n",
      "\n"
     ]
    },
    {
     "name": "stderr",
     "output_type": "stream",
     "text": [
      "Progress :  97%|█████████▋| 107/110 [52:49<00:47, 15.75s/it]"
     ]
    },
    {
     "name": "stdout",
     "output_type": "stream",
     "text": [
      "[INFO] Processing https://www.foody.vn/ho-chi-minh/com-tam-tu-map\n",
      "\n"
     ]
    },
    {
     "name": "stderr",
     "output_type": "stream",
     "text": [
      "Progress :  98%|█████████▊| 108/110 [53:04<00:31, 15.54s/it]"
     ]
    },
    {
     "name": "stdout",
     "output_type": "stream",
     "text": [
      "[INFO] Processing https://www.foody.vn/ho-chi-minh/thien-an-banh-van-tran\n",
      "\n"
     ]
    },
    {
     "name": "stderr",
     "output_type": "stream",
     "text": [
      "Progress :  99%|█████████▉| 109/110 [53:19<00:15, 15.46s/it]"
     ]
    },
    {
     "name": "stdout",
     "output_type": "stream",
     "text": [
      "[INFO] Processing https://www.foody.vn/ho-chi-minh/papas-chicken-ga-ran-han-quoc-hoang-van-thu\n",
      "\n"
     ]
    },
    {
     "name": "stderr",
     "output_type": "stream",
     "text": [
      "Progress : 100%|██████████| 110/110 [53:35<00:00, 29.23s/it]\n"
     ]
    },
    {
     "name": "stdout",
     "output_type": "stream",
     "text": [
      "[INFO] Processing ha-noi province.\n"
     ]
    },
    {
     "name": "stderr",
     "output_type": "stream",
     "text": [
      "Progress :   0%|          | 0/72 [00:00<?, ?it/s]"
     ]
    },
    {
     "name": "stdout",
     "output_type": "stream",
     "text": [
      "[INFO] Processing https://www.foody.vn/ha-noi/dung-hanh-banh-mi-gio-cha-le-dai-hanh\n",
      "\n"
     ]
    },
    {
     "name": "stderr",
     "output_type": "stream",
     "text": [
      "Progress :   1%|▏         | 1/72 [00:16<19:06, 16.15s/it]"
     ]
    },
    {
     "name": "stdout",
     "output_type": "stream",
     "text": [
      "[INFO] Processing https://www.foody.vn/ha-noi/bami-king-banh-mi-bo-nuong-com-tho-an-trach\n",
      "\n"
     ]
    },
    {
     "name": "stderr",
     "output_type": "stream",
     "text": [
      "Progress :   3%|▎         | 2/72 [00:31<18:18, 15.69s/it]"
     ]
    },
    {
     "name": "stdout",
     "output_type": "stream",
     "text": [
      "[INFO] Processing https://www.foody.vn/ha-noi/hong-xoi-xeo-ngoc-lam\n",
      "\n"
     ]
    },
    {
     "name": "stderr",
     "output_type": "stream",
     "text": [
      "Progress :   4%|▍         | 3/72 [1:29:04<46:39:41, 2434.52s/it]"
     ]
    },
    {
     "name": "stdout",
     "output_type": "stream",
     "text": [
      "[INFO] Processing https://www.foody.vn/ha-noi/my-cay-do-an-vat-va-tra-hoa-qua-huyen-linh-food-ngo-169-doan-ke-thien\n",
      "\n"
     ]
    },
    {
     "name": "stderr",
     "output_type": "stream",
     "text": [
      "There was an error managing chromedriver (error sending request for url (https://googlechromelabs.github.io/chrome-for-testing/known-good-versions-with-downloads.json)); using driver found in the cache\n",
      "Error sending stats to Plausible: error sending request for url (https://plausible.io/api/event)\n",
      "Progress :   6%|▌         | 4/72 [7:18:07<184:00:29, 9741.61s/it]"
     ]
    },
    {
     "name": "stdout",
     "output_type": "stream",
     "text": [
      "[INFO] Processing https://www.foody.vn/ha-noi/hanh-beo-vit-nuong\n",
      "\n"
     ]
    },
    {
     "name": "stderr",
     "output_type": "stream",
     "text": [
      "Progress :   7%|▋         | 5/72 [7:18:22<116:01:21, 6234.05s/it]"
     ]
    },
    {
     "name": "stdout",
     "output_type": "stream",
     "text": [
      "[INFO] Processing https://www.foody.vn/ha-noi/pho-chien-gion-kham-thien\n",
      "\n"
     ]
    },
    {
     "name": "stderr",
     "output_type": "stream",
     "text": [
      "Progress :   8%|▊         | 6/72 [7:18:38<75:31:53, 4119.90s/it] "
     ]
    },
    {
     "name": "stdout",
     "output_type": "stream",
     "text": [
      "[INFO] Processing https://www.foody.vn/ha-noi/chops-hops-wheat-meat\n",
      "\n"
     ]
    },
    {
     "name": "stderr",
     "output_type": "stream",
     "text": [
      "Progress :  10%|▉         | 7/72 [7:18:54<50:09:39, 2778.14s/it]"
     ]
    },
    {
     "name": "stdout",
     "output_type": "stream",
     "text": [
      "[INFO] Processing https://www.foody.vn/ha-noi/run-s-house-hoa-qua-got-san-hoa-qua-sach-288-nguyen-xien\n",
      "\n"
     ]
    },
    {
     "name": "stderr",
     "output_type": "stream",
     "text": [
      "Progress :  11%|█         | 8/72 [7:19:09<33:45:14, 1898.67s/it]"
     ]
    },
    {
     "name": "stdout",
     "output_type": "stream",
     "text": [
      "[INFO] Processing https://www.foody.vn/ha-noi/banh-goi-ly-quoc-su\n",
      "\n"
     ]
    },
    {
     "name": "stderr",
     "output_type": "stream",
     "text": [
      "Progress :  12%|█▎        | 9/72 [7:19:25<22:55:27, 1309.95s/it]"
     ]
    },
    {
     "name": "stdout",
     "output_type": "stream",
     "text": [
      "[INFO] Processing https://www.foody.vn/ha-noi/hey-bro-buger-pizza-spaghetti-fast-food\n",
      "\n",
      "[WARNING] Not found enough review-item!!!\n"
     ]
    },
    {
     "name": "stderr",
     "output_type": "stream",
     "text": [
      "Progress :  14%|█▍        | 10/72 [7:20:09<15:49:51, 919.22s/it]"
     ]
    },
    {
     "name": "stdout",
     "output_type": "stream",
     "text": [
      "[INFO] Processing https://www.foody.vn/ha-noi/phuong-dung-com-ga-chim-quay-tong-duy-tan\n",
      "\n",
      "[WARNING] Not found enough review-item!!!\n"
     ]
    },
    {
     "name": "stderr",
     "output_type": "stream",
     "text": [
      "Progress :  15%|█▌        | 11/72 [7:20:54<11:02:23, 651.53s/it]"
     ]
    },
    {
     "name": "stdout",
     "output_type": "stream",
     "text": [
      "[INFO] Processing https://www.foody.vn/ha-noi/homey-bbq-suon-nuong-bbq\n",
      "\n"
     ]
    },
    {
     "name": "stderr",
     "output_type": "stream",
     "text": [
      "Progress :  17%|█▋        | 12/72 [7:21:09<7:38:02, 458.05s/it] "
     ]
    },
    {
     "name": "stdout",
     "output_type": "stream",
     "text": [
      "[INFO] Processing https://www.foody.vn/ha-noi/banh-su-kem-chewy-junior-tran-dai-nghia\n",
      "\n"
     ]
    },
    {
     "name": "stderr",
     "output_type": "stream",
     "text": [
      "Progress :  18%|█▊        | 13/72 [7:21:25<5:18:31, 323.93s/it]"
     ]
    },
    {
     "name": "stdout",
     "output_type": "stream",
     "text": [
      "[INFO] Processing https://www.foody.vn/ha-noi/ngoc-loi-mien-cua-tron\n",
      "\n",
      "[WARNING] Not found enough review-item!!!\n"
     ]
    },
    {
     "name": "stderr",
     "output_type": "stream",
     "text": [
      "Progress :  19%|█▉        | 14/72 [7:22:10<3:51:58, 239.97s/it]"
     ]
    },
    {
     "name": "stdout",
     "output_type": "stream",
     "text": [
      "[INFO] Processing https://www.foody.vn/ha-noi/ducking-com-van-phong-do-an-han-quoc-vinhomes-ocean-park-1\n",
      "\n"
     ]
    },
    {
     "name": "stderr",
     "output_type": "stream",
     "text": [
      "Progress :  21%|██        | 15/72 [7:22:26<2:43:33, 172.17s/it]"
     ]
    },
    {
     "name": "stdout",
     "output_type": "stream",
     "text": [
      "[INFO] Processing https://www.foody.vn/ha-noi/dac-san-che-vinh-ho\n",
      "\n"
     ]
    },
    {
     "name": "stderr",
     "output_type": "stream",
     "text": [
      "Progress :  22%|██▏       | 16/72 [7:22:41<1:56:45, 125.09s/it]"
     ]
    },
    {
     "name": "stdout",
     "output_type": "stream",
     "text": [
      "[INFO] Processing https://www.foody.vn/ha-noi/ga-36-dao-tan\n",
      "\n",
      "[WARNING] Not found enough review-item!!!\n"
     ]
    },
    {
     "name": "stderr",
     "output_type": "stream",
     "text": [
      "Progress :  24%|██▎       | 17/72 [7:23:26<1:32:30, 100.92s/it]"
     ]
    },
    {
     "name": "stdout",
     "output_type": "stream",
     "text": [
      "[INFO] Processing https://www.foody.vn/ha-noi/ga-ran-popeyes-ham-nghi\n",
      "\n",
      "[WARNING] Not found enough review-item!!!\n"
     ]
    },
    {
     "name": "stderr",
     "output_type": "stream",
     "text": [
      "Progress :  25%|██▌       | 18/72 [7:24:10<1:15:27, 83.84s/it] "
     ]
    },
    {
     "name": "stdout",
     "output_type": "stream",
     "text": [
      "[INFO] Processing https://www.foody.vn/ha-noi/bun-rieu-hoang-ky-to-hieu\n",
      "\n"
     ]
    },
    {
     "name": "stderr",
     "output_type": "stream",
     "text": [
      "Progress :  26%|██▋       | 19/72 [7:24:25<55:49, 63.20s/it]  "
     ]
    },
    {
     "name": "stdout",
     "output_type": "stream",
     "text": [
      "[INFO] Processing https://www.foody.vn/ha-noi/an-nam-chao\n",
      "\n"
     ]
    },
    {
     "name": "stderr",
     "output_type": "stream",
     "text": [
      "Progress :  28%|██▊       | 20/72 [7:24:40<42:17, 48.79s/it]"
     ]
    },
    {
     "name": "stdout",
     "output_type": "stream",
     "text": [
      "[INFO] Processing https://www.foody.vn/ha-noi/le-castella-ha-noi-taste-of-taiwan-vu-huu\n",
      "\n"
     ]
    },
    {
     "name": "stderr",
     "output_type": "stream",
     "text": [
      "Progress :  29%|██▉       | 21/72 [7:24:56<32:56, 38.75s/it]"
     ]
    },
    {
     "name": "stdout",
     "output_type": "stream",
     "text": [
      "[INFO] Processing https://www.foody.vn/ha-noi/nem-chua-ran-tam-thuong\n",
      "\n",
      "[WARNING] Not found enough review-item!!!\n"
     ]
    },
    {
     "name": "stderr",
     "output_type": "stream",
     "text": [
      "Progress :  31%|███       | 22/72 [7:25:41<33:54, 40.70s/it]"
     ]
    },
    {
     "name": "stdout",
     "output_type": "stream",
     "text": [
      "[INFO] Processing https://www.foody.vn/ha-noi/chi-cuc-bun-tron-nam-bo-geleximco\n",
      "\n",
      "[WARNING] Not found enough review-item!!!\n"
     ]
    },
    {
     "name": "stderr",
     "output_type": "stream",
     "text": [
      "Progress :  32%|███▏      | 23/72 [7:26:26<34:12, 41.90s/it]"
     ]
    },
    {
     "name": "stdout",
     "output_type": "stream",
     "text": [
      "[INFO] Processing https://www.foody.vn/ha-noi/cuon-xua-pho-cuon-ha-thanh-bui-xuong-trach\n",
      "\n",
      "[WARNING] Not found enough review-item!!!\n"
     ]
    },
    {
     "name": "stderr",
     "output_type": "stream",
     "text": [
      "Progress :  33%|███▎      | 24/72 [7:27:10<34:10, 42.72s/it]"
     ]
    },
    {
     "name": "stdout",
     "output_type": "stream",
     "text": [
      "[INFO] Processing https://www.foody.vn/ha-noi/banh-xeo-nam-bo-ta-quang-buu\n",
      "\n"
     ]
    },
    {
     "name": "stderr",
     "output_type": "stream",
     "text": [
      "Progress :  35%|███▍      | 25/72 [7:27:26<27:01, 34.49s/it]"
     ]
    },
    {
     "name": "stdout",
     "output_type": "stream",
     "text": [
      "[INFO] Processing https://www.foody.vn/ha-noi/banh-xeo-pho-cuon-thit-nuong-hue\n",
      "\n",
      "[WARNING] Not found enough review-item!!!\n"
     ]
    },
    {
     "name": "stderr",
     "output_type": "stream",
     "text": [
      "Progress :  36%|███▌      | 26/72 [7:28:11<28:50, 37.61s/it]"
     ]
    },
    {
     "name": "stdout",
     "output_type": "stream",
     "text": [
      "[INFO] Processing https://www.foody.vn/ha-noi/le-ciel-coffee-fastfood\n",
      "\n",
      "[WARNING] Not found enough review-item!!!\n"
     ]
    },
    {
     "name": "stderr",
     "output_type": "stream",
     "text": [
      "Progress :  38%|███▊      | 27/72 [7:28:55<29:49, 39.78s/it]"
     ]
    },
    {
     "name": "stdout",
     "output_type": "stream",
     "text": [
      "[INFO] Processing https://www.foody.vn/ha-noi/tiem-meo-u-my-cay-7-cap-do-tra-sua-khuc-bach-chan-meo-dam-vi\n",
      "\n",
      "[WARNING] Not found enough review-item!!!\n"
     ]
    },
    {
     "name": "stderr",
     "output_type": "stream",
     "text": [
      "Progress :  39%|███▉      | 28/72 [7:29:40<30:12, 41.19s/it]"
     ]
    },
    {
     "name": "stdout",
     "output_type": "stream",
     "text": [
      "[INFO] Processing https://www.foody.vn/ha-noi/lasimi-tra-ngon-dam-vi-tran-dai-nghia\n",
      "\n",
      "[WARNING] Not found enough review-item!!!\n"
     ]
    },
    {
     "name": "stderr",
     "output_type": "stream",
     "text": [
      "Progress :  40%|████      | 29/72 [7:30:24<30:13, 42.17s/it]"
     ]
    },
    {
     "name": "stdout",
     "output_type": "stream",
     "text": [
      "[INFO] Processing https://www.foody.vn/ha-noi/pho-cuon-huong-mai-to-hieu\n",
      "\n"
     ]
    },
    {
     "name": "stderr",
     "output_type": "stream",
     "text": [
      "Progress :  42%|████▏     | 30/72 [7:30:40<23:53, 34.13s/it]"
     ]
    },
    {
     "name": "stdout",
     "output_type": "stream",
     "text": [
      "[INFO] Processing https://www.foody.vn/ha-noi/ga-36-tay-ho\n",
      "\n",
      "[WARNING] Not found enough review-item!!!\n"
     ]
    },
    {
     "name": "stderr",
     "output_type": "stream",
     "text": [
      "Progress :  43%|████▎     | 31/72 [7:31:24<25:27, 37.25s/it]"
     ]
    },
    {
     "name": "stdout",
     "output_type": "stream",
     "text": [
      "[INFO] Processing https://www.foody.vn/ha-noi/don-chicken-chicken-pub-ocean-park\n",
      "\n",
      "[WARNING] Not found enough review-item!!!\n"
     ]
    },
    {
     "name": "stderr",
     "output_type": "stream",
     "text": [
      "Progress :  44%|████▍     | 32/72 [7:32:08<26:13, 39.34s/it]"
     ]
    },
    {
     "name": "stdout",
     "output_type": "stream",
     "text": [
      "[INFO] Processing https://www.foody.vn/ha-noi/nha-hang-gimbab-bibimbab-nguyen-trai\n",
      "\n"
     ]
    },
    {
     "name": "stderr",
     "output_type": "stream",
     "text": [
      "Progress :  46%|████▌     | 33/72 [7:32:24<20:51, 32.08s/it]"
     ]
    },
    {
     "name": "stdout",
     "output_type": "stream",
     "text": [
      "[INFO] Processing https://www.foody.vn/ha-noi/huong-phe-bun-cha-ngon\n",
      "\n",
      "[WARNING] Not found enough review-item!!!\n"
     ]
    },
    {
     "name": "stderr",
     "output_type": "stream",
     "text": [
      "Progress :  47%|████▋     | 34/72 [7:33:07<22:33, 35.62s/it]"
     ]
    },
    {
     "name": "stdout",
     "output_type": "stream",
     "text": [
      "[INFO] Processing https://www.foody.vn/ha-noi/cam-vien-quan-am-thuc-dong-que-nguyen-van-loc\n",
      "\n",
      "[WARNING] Not found enough review-item!!!\n"
     ]
    },
    {
     "name": "stderr",
     "output_type": "stream",
     "text": [
      "Progress :  49%|████▊     | 35/72 [7:33:52<23:38, 38.34s/it]"
     ]
    },
    {
     "name": "stdout",
     "output_type": "stream",
     "text": [
      "[INFO] Processing https://www.foody.vn/ha-noi/banh-xeo-nem-lui-doi-can\n",
      "\n"
     ]
    },
    {
     "name": "stderr",
     "output_type": "stream",
     "text": [
      "Progress :  50%|█████     | 36/72 [7:34:08<18:57, 31.61s/it]"
     ]
    },
    {
     "name": "stdout",
     "output_type": "stream",
     "text": [
      "[INFO] Processing https://www.foody.vn/ha-noi/ga-ran-burger-lotteria-lotte-center\n",
      "\n"
     ]
    },
    {
     "name": "stderr",
     "output_type": "stream",
     "text": [
      "Progress :  51%|█████▏    | 37/72 [7:34:24<15:41, 26.90s/it]"
     ]
    },
    {
     "name": "stdout",
     "output_type": "stream",
     "text": [
      "[INFO] Processing https://www.foody.vn/ha-noi/banh-xeo-nem-lui-ngoc-duong-125-doi-can\n",
      "\n"
     ]
    },
    {
     "name": "stderr",
     "output_type": "stream",
     "text": [
      "Progress :  53%|█████▎    | 38/72 [7:34:39<13:12, 23.31s/it]"
     ]
    },
    {
     "name": "stdout",
     "output_type": "stream",
     "text": [
      "[INFO] Processing https://www.foody.vn/ha-noi/tra-sua-feeling-tea-tran-thai-tong\n",
      "\n"
     ]
    },
    {
     "name": "stderr",
     "output_type": "stream",
     "text": [
      "Progress :  54%|█████▍    | 39/72 [7:34:55<11:34, 21.04s/it]"
     ]
    },
    {
     "name": "stdout",
     "output_type": "stream",
     "text": [
      "[INFO] Processing https://www.foody.vn/ha-noi/kfc-vincom-plaza-bac-tu-liem\n",
      "\n",
      "[WARNING] Not found enough review-item!!!\n"
     ]
    },
    {
     "name": "stderr",
     "output_type": "stream",
     "text": [
      "Progress :  56%|█████▌    | 40/72 [7:35:40<15:06, 28.34s/it]"
     ]
    },
    {
     "name": "stdout",
     "output_type": "stream",
     "text": [
      "[INFO] Processing https://www.foody.vn/ha-noi/duc-hanh-com-rang\n",
      "\n"
     ]
    },
    {
     "name": "stderr",
     "output_type": "stream",
     "text": [
      "Progress :  57%|█████▋    | 41/72 [7:35:56<12:48, 24.78s/it]"
     ]
    },
    {
     "name": "stdout",
     "output_type": "stream",
     "text": [
      "[INFO] Processing https://www.foody.vn/ha-noi/the-pizza-company-xuan-dieu\n",
      "\n"
     ]
    },
    {
     "name": "stderr",
     "output_type": "stream",
     "text": [
      "Progress :  58%|█████▊    | 42/72 [7:36:13<11:05, 22.19s/it]"
     ]
    },
    {
     "name": "stdout",
     "output_type": "stream",
     "text": [
      "[INFO] Processing https://www.foody.vn/ha-noi/the-pizza-company-nguyen-co-thach\n",
      "\n",
      "[WARNING] Not found enough review-item!!!\n"
     ]
    },
    {
     "name": "stderr",
     "output_type": "stream",
     "text": [
      "Progress :  60%|█████▉    | 43/72 [7:36:57<13:55, 28.80s/it]"
     ]
    },
    {
     "name": "stdout",
     "output_type": "stream",
     "text": [
      "[INFO] Processing https://www.foody.vn/ha-noi/chang-hi-che-thot-not-dua-dam-ngon-nhat-ha-noi-online\n",
      "\n",
      "[WARNING] Not found enough review-item!!!\n"
     ]
    },
    {
     "name": "stderr",
     "output_type": "stream",
     "text": [
      "Progress :  61%|██████    | 44/72 [7:37:41<15:37, 33.49s/it]"
     ]
    },
    {
     "name": "stdout",
     "output_type": "stream",
     "text": [
      "[INFO] Processing https://www.foody.vn/ha-noi/s-box-giang-van-minh\n",
      "\n"
     ]
    },
    {
     "name": "stderr",
     "output_type": "stream",
     "text": [
      "Progress :  62%|██████▎   | 45/72 [7:37:57<12:42, 28.25s/it]"
     ]
    },
    {
     "name": "stdout",
     "output_type": "stream",
     "text": [
      "[INFO] Processing https://www.foody.vn/ha-noi/highlands-coffee-tra-ca-phe-banh-ban-dao-linh-dam-ha-noi\n",
      "\n",
      "[WARNING] Not found enough review-item!!!\n"
     ]
    },
    {
     "name": "stderr",
     "output_type": "stream",
     "text": [
      "Progress :  64%|██████▍   | 46/72 [7:38:41<14:15, 32.92s/it]"
     ]
    },
    {
     "name": "stdout",
     "output_type": "stream",
     "text": [
      "[INFO] Processing https://www.foody.vn/ha-noi/com-tam-phuong-anh-bach-mai\n",
      "\n",
      "[WARNING] Not found enough review-item!!!\n"
     ]
    },
    {
     "name": "stderr",
     "output_type": "stream",
     "text": [
      "Progress :  65%|██████▌   | 47/72 [7:39:34<16:11, 38.86s/it]"
     ]
    },
    {
     "name": "stdout",
     "output_type": "stream",
     "text": [
      "[INFO] Processing https://www.foody.vn/ha-noi/com-tam-phuong-anh-nguyen-khang\n",
      "\n"
     ]
    },
    {
     "name": "stderr",
     "output_type": "stream",
     "text": [
      "Progress :  67%|██████▋   | 48/72 [7:39:49<12:41, 31.74s/it]"
     ]
    },
    {
     "name": "stdout",
     "output_type": "stream",
     "text": [
      "[INFO] Processing https://www.foody.vn/ha-noi/khanh-van-bun-cha\n",
      "\n"
     ]
    },
    {
     "name": "stderr",
     "output_type": "stream",
     "text": [
      "Progress :  68%|██████▊   | 49/72 [7:40:05<10:20, 26.97s/it]"
     ]
    },
    {
     "name": "stdout",
     "output_type": "stream",
     "text": [
      "[INFO] Processing https://www.foody.vn/ha-noi/nyna-coffee-ca-phe-tra-vi-tu-nhien-banh-hoan-kiem\n",
      "\n"
     ]
    },
    {
     "name": "stderr",
     "output_type": "stream",
     "text": [
      "Progress :  69%|██████▉   | 50/72 [7:40:20<08:36, 23.46s/it]"
     ]
    },
    {
     "name": "stdout",
     "output_type": "stream",
     "text": [
      "[INFO] Processing https://www.foody.vn/ha-noi/quan-cay-da-chan-ga-nuong\n",
      "\n",
      "[WARNING] Not found enough review-item!!!\n"
     ]
    },
    {
     "name": "stderr",
     "output_type": "stream",
     "text": [
      "Progress :  71%|███████   | 51/72 [7:41:05<10:27, 29.86s/it]"
     ]
    },
    {
     "name": "stdout",
     "output_type": "stream",
     "text": [
      "[INFO] Processing https://www.foody.vn/ha-noi/pho-cuon-huong-mai-tt-giang-vo\n",
      "\n"
     ]
    },
    {
     "name": "stderr",
     "output_type": "stream",
     "text": [
      "Progress :  72%|███████▏  | 52/72 [7:41:23<08:44, 26.21s/it]"
     ]
    },
    {
     "name": "stdout",
     "output_type": "stream",
     "text": [
      "[INFO] Processing https://www.foody.vn/ha-noi/yu-tang-tra-sua-my-dai-loan-thai-phien\n",
      "\n"
     ]
    },
    {
     "name": "stderr",
     "output_type": "stream",
     "text": [
      "Progress :  74%|███████▎  | 53/72 [7:41:38<07:17, 23.02s/it]"
     ]
    },
    {
     "name": "stdout",
     "output_type": "stream",
     "text": [
      "[INFO] Processing https://www.foody.vn/ha-noi/mi-ga-tan-luong-van-can\n",
      "\n"
     ]
    },
    {
     "name": "stderr",
     "output_type": "stream",
     "text": [
      "Progress :  75%|███████▌  | 54/72 [7:41:53<06:12, 20.72s/it]"
     ]
    },
    {
     "name": "stdout",
     "output_type": "stream",
     "text": [
      "[INFO] Processing https://www.foody.vn/ha-noi/banh-mi-huong-lan\n",
      "\n"
     ]
    },
    {
     "name": "stderr",
     "output_type": "stream",
     "text": [
      "Progress :  76%|███████▋  | 55/72 [7:42:09<05:26, 19.20s/it]"
     ]
    },
    {
     "name": "stdout",
     "output_type": "stream",
     "text": [
      "[INFO] Processing https://www.foody.vn/ha-noi/com-bong-a2\n",
      "\n",
      "[WARNING] Not found enough review-item!!!\n"
     ]
    },
    {
     "name": "stderr",
     "output_type": "stream",
     "text": [
      "Progress :  78%|███████▊  | 56/72 [7:42:55<07:13, 27.06s/it]"
     ]
    },
    {
     "name": "stdout",
     "output_type": "stream",
     "text": [
      "[INFO] Processing https://www.foody.vn/ha-noi/minh-sushi-pham-tuan-tai\n",
      "\n"
     ]
    },
    {
     "name": "stderr",
     "output_type": "stream",
     "text": [
      "Progress :  79%|███████▉  | 57/72 [7:43:09<05:50, 23.40s/it]"
     ]
    },
    {
     "name": "stdout",
     "output_type": "stream",
     "text": [
      "[INFO] Processing https://www.foody.vn/ha-noi/banh-mi-nhu-y-van-quan\n",
      "\n",
      "[WARNING] Not found enough review-item!!!\n"
     ]
    },
    {
     "name": "stderr",
     "output_type": "stream",
     "text": [
      "Progress :  81%|████████  | 58/72 [7:43:54<06:57, 29.79s/it]"
     ]
    },
    {
     "name": "stdout",
     "output_type": "stream",
     "text": [
      "[INFO] Processing https://www.foody.vn/ha-noi/bun-mien-ngan-cau-giay\n",
      "\n"
     ]
    },
    {
     "name": "stderr",
     "output_type": "stream",
     "text": [
      "Progress :  82%|████████▏ | 59/72 [7:44:09<05:29, 25.38s/it]"
     ]
    },
    {
     "name": "stdout",
     "output_type": "stream",
     "text": [
      "[INFO] Processing https://www.foody.vn/ha-noi/ngoc-thach-quan-sua-chua-caramen-nguyen-thai-hoc\n",
      "\n",
      "[WARNING] Not found enough review-item!!!\n"
     ]
    },
    {
     "name": "stderr",
     "output_type": "stream",
     "text": [
      "Progress :  83%|████████▎ | 60/72 [7:44:54<06:14, 31.17s/it]"
     ]
    },
    {
     "name": "stdout",
     "output_type": "stream",
     "text": [
      "[INFO] Processing https://www.foody.vn/ha-noi/the-alley-tra-sua-dai-loan-hang-bai\n",
      "\n"
     ]
    },
    {
     "name": "stderr",
     "output_type": "stream",
     "text": [
      "Progress :  85%|████████▍ | 61/72 [7:45:09<04:49, 26.31s/it]"
     ]
    },
    {
     "name": "stdout",
     "output_type": "stream",
     "text": [
      "[INFO] Processing https://www.foody.vn/ha-noi/the-alley-tra-sua-dai-loan-pham-ngoc-thach\n",
      "\n",
      "[WARNING] Not found enough review-item!!!\n"
     ]
    },
    {
     "name": "stderr",
     "output_type": "stream",
     "text": [
      "Progress :  86%|████████▌ | 62/72 [7:46:01<05:39, 33.94s/it]"
     ]
    },
    {
     "name": "stdout",
     "output_type": "stream",
     "text": [
      "[INFO] Processing https://www.foody.vn/ha-noi/bep-sua-com-tron-my-tron\n",
      "\n"
     ]
    },
    {
     "name": "stderr",
     "output_type": "stream",
     "text": [
      "Progress :  88%|████████▊ | 63/72 [7:46:17<04:16, 28.55s/it]"
     ]
    },
    {
     "name": "stdout",
     "output_type": "stream",
     "text": [
      "[INFO] Processing https://www.foody.vn/ha-noi/banh-bao-day-225-bach-mai\n",
      "\n"
     ]
    },
    {
     "name": "stderr",
     "output_type": "stream",
     "text": [
      "Progress :  89%|████████▉ | 64/72 [7:46:31<03:15, 24.44s/it]"
     ]
    },
    {
     "name": "stdout",
     "output_type": "stream",
     "text": [
      "[INFO] Processing https://www.foody.vn/ha-noi/tiem-tra-trai-cay-lan-oanhh\n",
      "\n",
      "[WARNING] Not found enough review-item!!!\n"
     ]
    },
    {
     "name": "stderr",
     "output_type": "stream",
     "text": [
      "Progress :  90%|█████████ | 65/72 [7:47:17<03:34, 30.68s/it]"
     ]
    },
    {
     "name": "stdout",
     "output_type": "stream",
     "text": [
      "[INFO] Processing https://www.foody.vn/ha-noi/nem-chua-ran-thanh-xam-hang-bong\n",
      "\n",
      "[WARNING] Not found enough review-item!!!\n"
     ]
    },
    {
     "name": "stderr",
     "output_type": "stream",
     "text": [
      "Progress :  92%|█████████▏| 66/72 [7:48:01<03:27, 34.66s/it]"
     ]
    },
    {
     "name": "stdout",
     "output_type": "stream",
     "text": [
      "[INFO] Processing https://www.foody.vn/ha-noi/mochi-sweets-nguyen-trai\n",
      "\n",
      "[WARNING] Not found enough review-item!!!\n"
     ]
    },
    {
     "name": "stderr",
     "output_type": "stream",
     "text": [
      "Progress :  93%|█████████▎| 67/72 [7:48:46<03:08, 37.78s/it]"
     ]
    },
    {
     "name": "stdout",
     "output_type": "stream",
     "text": [
      "[INFO] Processing https://www.foody.vn/ha-noi/tiem-banh-sinh-nhat-thu-huyen-chuyen-banh-sinh-nhat-banh-kem\n",
      "\n",
      "[WARNING] Not found enough review-item!!!\n"
     ]
    },
    {
     "name": "stderr",
     "output_type": "stream",
     "text": [
      "Progress :  94%|█████████▍| 68/72 [7:49:30<02:38, 39.70s/it]"
     ]
    },
    {
     "name": "stdout",
     "output_type": "stream",
     "text": [
      "[INFO] Processing https://www.foody.vn/ha-noi/bun-dau-pho-trung-yen\n",
      "\n",
      "[WARNING] Not found enough review-item!!!\n"
     ]
    },
    {
     "name": "stderr",
     "output_type": "stream",
     "text": [
      "Progress :  96%|█████████▌| 69/72 [7:50:16<02:05, 41.68s/it]"
     ]
    },
    {
     "name": "stdout",
     "output_type": "stream",
     "text": [
      "[INFO] Processing https://www.foody.vn/ha-noi/thuc-vi-thien-am-thuc-trung-hoa-trung-hoa\n",
      "\n",
      "[WARNING] Not found enough review-item!!!\n"
     ]
    },
    {
     "name": "stderr",
     "output_type": "stream",
     "text": [
      "Progress :  97%|█████████▋| 70/72 [7:51:01<01:24, 42.49s/it]"
     ]
    },
    {
     "name": "stdout",
     "output_type": "stream",
     "text": [
      "[INFO] Processing https://www.foody.vn/ha-noi/highlands-coffee-tra-ca-phe-banh-new-horizon\n",
      "\n",
      "[WARNING] Not found enough review-item!!!\n"
     ]
    },
    {
     "name": "stderr",
     "output_type": "stream",
     "text": [
      "Progress :  99%|█████████▊| 71/72 [7:51:45<00:43, 43.08s/it]"
     ]
    },
    {
     "name": "stdout",
     "output_type": "stream",
     "text": [
      "[INFO] Processing https://www.foody.vn/ha-noi/nem-chua-ran-36-tam-thuong-nguyen-van-giap\n",
      "\n",
      "[WARNING] Not found enough review-item!!!\n"
     ]
    },
    {
     "name": "stderr",
     "output_type": "stream",
     "text": [
      "Progress : 100%|██████████| 72/72 [7:52:30<00:00, 393.75s/it]\n"
     ]
    }
   ],
   "source": [
    "from tqdm import tqdm\n",
    "PROVINCE = [\"ho-chi-minh\", \"ha-noi\"]\n",
    "\n",
    "LINK_STORAGE_PATH = \"link\"\n",
    "SAVE_ROOT = \"detail\"\n",
    "\n",
    "for i in PROVINCE:\n",
    "    file_path = f\"{LINK_STORAGE_PATH}/{i}.txt\"\n",
    "    with open(file_path, \"r\", encoding=\"utf-8\") as file:\n",
    "        all_links = file.readlines()\n",
    "    \n",
    "    print(f\"[INFO] Processing {i} province.\")\n",
    "    for link in tqdm(all_links, desc=\"Progress \"):\n",
    "        print(f\"[INFO] Processing {link}\")\n",
    "        _, save_path = link.strip().rsplit(sep=\"/\", maxsplit=1)\n",
    "        get_detail_content(url=link.strip(), save_path=f\"{SAVE_ROOT}/{i}/{save_path}.json\")\n",
    "        time.sleep(5)"
   ]
  },
  {
   "cell_type": "code",
   "execution_count": 4,
   "id": "1c5fcb67",
   "metadata": {},
   "outputs": [],
   "source": [
    "# get_detail_content(url=\"https://www.foody.vn/ho-chi-minh/kebab-sai-gon-nguyen-thuong-hien\", save_path = \"sample.json\")"
   ]
  }
 ],
 "metadata": {
  "kernelspec": {
   "display_name": "crawl-data",
   "language": "python",
   "name": "python3"
  },
  "language_info": {
   "codemirror_mode": {
    "name": "ipython",
    "version": 3
   },
   "file_extension": ".py",
   "mimetype": "text/x-python",
   "name": "python",
   "nbconvert_exporter": "python",
   "pygments_lexer": "ipython3",
   "version": "3.12.12"
  }
 },
 "nbformat": 4,
 "nbformat_minor": 5
}
